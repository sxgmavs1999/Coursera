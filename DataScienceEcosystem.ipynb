{
 "cells": [
  {
   "cell_type": "markdown",
   "id": "4e6d513f-81b9-4792-9a10-dc4171187f73",
   "metadata": {},
   "source": [
    "# Data Science Tools and Ecosystem"
   ]
  },
  {
   "cell_type": "markdown",
   "id": "dd05bdc6-338e-418d-9e76-7f446cca312e",
   "metadata": {},
   "source": [
    "## In this notebook, Data Science Tools and Ecosystem are summarized."
   ]
  },
  {
   "cell_type": "markdown",
   "id": "e75ceced-2999-4654-85c9-d39caedab7a2",
   "metadata": {
    "tags": []
   },
   "source": [
    "1. Python\n",
    "2. R\n",
    "3. SQL"
   ]
  },
  {
   "cell_type": "markdown",
   "id": "2fa1b538-4e7c-4565-9347-9ed58fdf3273",
   "metadata": {},
   "source": [
    "### Some of the commonly used libraries used by Data Scientists include:\n",
    "\n",
    "1. Pandas\n",
    "2. NumPy\n",
    "3. Matplotlib\n",
    "4. Scikit-learn\n",
    "5. TensorFlow\n",
    "\n"
   ]
  },
  {
   "cell_type": "markdown",
   "id": "4dc07521-bf7a-4878-ad84-7aa592a9e48a",
   "metadata": {},
   "source": [
    "| Data Science Tools       |\n",
    "|--------------------------|\n",
    "| Jupyter Notebook          |\n",
    "| RStudio                   |\n",
    "| Apache Zeppelin           |\n"
   ]
  },
  {
   "cell_type": "markdown",
   "id": "e604b383-da76-4156-9e03-83e9761ad423",
   "metadata": {},
   "source": [
    "### Below are a few examples of evaluating arithmetic expressions in Python"
   ]
  },
  {
   "cell_type": "markdown",
   "id": "7eefd00a-7883-4b38-8493-b94fd57a0425",
   "metadata": {},
   "source": [
    " **Addition (`+`)**: Adds two numbers.  \n",
    "  Example: `a + b`\n",
    "\n",
    "- **Subtraction (`-`)**: Subtracts one number from another.  \n",
    "  Example: `a - b`\n",
    "\n",
    "- **Multiplication (`*`)**: Multiplies two numbers.  \n",
    "  Example: `a * b`\n",
    "\n",
    "- **Division (`/`)**: Divides one number by another.  \n",
    "  Example: `a / b`\n"
   ]
  },
  {
   "cell_type": "code",
   "execution_count": 3,
   "id": "482af1dd-abb5-4718-8db6-548306a523aa",
   "metadata": {
    "tags": []
   },
   "outputs": [
    {
     "data": {
      "text/plain": [
       "17"
      ]
     },
     "execution_count": 3,
     "metadata": {},
     "output_type": "execute_result"
    }
   ],
   "source": [
    "# This a simple arithmetic expression to mutiply then add integers\n",
    "(3*4)+5"
   ]
  },
  {
   "cell_type": "code",
   "execution_count": 5,
   "id": "411f4e04-7ecc-4924-b7c5-216e48cc6208",
   "metadata": {
    "tags": []
   },
   "outputs": [
    {
     "data": {
      "text/plain": [
       "3.3333333333333335"
      ]
     },
     "execution_count": 5,
     "metadata": {},
     "output_type": "execute_result"
    }
   ],
   "source": [
    "# This will convert 200 minutes to hours by diving by 60\n",
    "\n",
    "minutes = 200\n",
    "hours = minutes / 60\n",
    "hours"
   ]
  },
  {
   "cell_type": "markdown",
   "id": "be5240f8-1930-4a10-8d4f-638a49b7901f",
   "metadata": {},
   "source": [
    "# list Objectives"
   ]
  },
  {
   "cell_type": "markdown",
   "id": "6dda7ced-dadc-458f-b19b-aed14e707a74",
   "metadata": {},
   "source": [
    "### Objectives:.\n",
    "\n",
    "1. List popular languages for Data Science.\n",
    "2. Data Science Tools and Ecosystem are summarized.\n",
    "3. Popular languages that Data Scientists use.\n",
    "4. Evaluating arithmetic expressions in Python.\n"
   ]
  },
  {
   "cell_type": "markdown",
   "id": "54f9b7de-fa7f-40b8-8b0a-de223acb298e",
   "metadata": {},
   "source": [
    "## Author\n",
    "SHREYA GUPTA"
   ]
  },
  {
   "cell_type": "code",
   "execution_count": null,
   "id": "6d46430e-0308-4a2e-8a67-8655c3b82e46",
   "metadata": {},
   "outputs": [],
   "source": []
  }
 ],
 "metadata": {
  "kernelspec": {
   "display_name": "Python",
   "language": "python",
   "name": "conda-env-python-py"
  },
  "language_info": {
   "codemirror_mode": {
    "name": "ipython",
    "version": 3
   },
   "file_extension": ".py",
   "mimetype": "text/x-python",
   "name": "python",
   "nbconvert_exporter": "python",
   "pygments_lexer": "ipython3",
   "version": "3.7.12"
  }
 },
 "nbformat": 4,
 "nbformat_minor": 5
}
